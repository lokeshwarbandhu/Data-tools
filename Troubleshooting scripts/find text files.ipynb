{
 "cells": [
  {
   "cell_type": "code",
   "execution_count": 1,
   "metadata": {},
   "outputs": [
    {
     "name": "stdout",
     "output_type": "stream",
     "text": [
      "success\n"
     ]
    }
   ],
   "source": [
    "#Check whether required packages are inststalled\n",
    "import subprocess\n",
    "import sys\n",
    "\n",
    "reqs = subprocess.check_output([sys.executable, '-m', 'pip', 'freeze'])\n",
    "installed_packages = [r.decode().split('==')[0] for r in reqs.split()]\n",
    "#print(installed_packages)\n",
    "\n",
    "packages = ['pyodbc','pandas', 'requests', 'regex']\n",
    "\n",
    "for package in packages:\n",
    "    try:\n",
    "        if package not in installed_packages:\n",
    "            print(package + ' is not installed.')\n",
    "            sys.exit()\n",
    "    except:\n",
    "        print('Error : Package does not exist. See Readme in Github for package installation')\n",
    "\n",
    "# Import relevant modules\n",
    "try:\n",
    "    import pyodbc\n",
    "    import os\n",
    "    import requests\n",
    "    from datetime import datetime\n",
    "    import re\n",
    "    \n",
    "except:\n",
    "    print('Error in importing modules.')"
   ]
  },
  {
   "cell_type": "code",
   "execution_count": null,
   "metadata": {},
   "outputs": [],
   "source": [
    "choose = input(\"Do you want to access database? \\n 1. Yes \\n 2. No \\n\")\n",
    "# Connect to the server\n",
    "if choose == \"1\":\n",
    "    # Contact admin for UID and PWD\n",
    "    UID = input(\"Enter your user id : \")\n",
    "    PWD = input(\"Enter password : \")\n",
    "\n",
    "    #######Connection will be done using this conection string#######\n",
    "    connection_string = \"DefaultEndpointsProtocol=https;AccountName=metasqlstorage;AccountKey=VoSW7No7d0pMH29Cp2cbQrV4J4AoaZyMPCG5Ml\\\n",
    "    zmF+c0e6SvGlkvrbvdbuFe02Ee4OHedcoau4KD+AStDgvEIA==;EndpointSuffix=core.windows.net\"\n",
    "\n",
    "    ###### SQL connection part #\n",
    "    conn = pyodbc.connect('Driver={SQL Server};'\n",
    "                        'Server=meta-sql-resources.database.windows.net;'\n",
    "                        'Database=metamaterial;'\n",
    "                        'UID='+UID+';'\n",
    "                        'PWD='+PWD+';'\n",
    "                        'Trusted_Connection=no;'\n",
    "                        'Encrypt=yes;')\n",
    "\n",
    "    cursor = conn.cursor()\n",
    "    print(\"Connected to the server \\n\")\n",
    "\n",
    "    # Login Id used for data logging\n",
    "    userid = input(\"Enter your login (name.surname) : \")\n",
    "    login = userid + '@metamaterial.com'\n",
    "    #########################################################\n",
    "\n",
    "while choose == \"1\":\n",
    "    project_id = input(\"Enter Project ID : \")\n",
    "    sample_name = add_Sample(project_id=project_id,sample_name=[])\n",
    "    process_id = add_Process(sample_name=sample_name)\n",
    "    add_SubProcess(process_id=process_id, subprocess_name='VCD')\n",
    "    choose = input(\"Do you want to access database? \\n 1. Yes \\n 2. No \\n\")\n",
    "\n",
    "conn.close()"
   ]
  }
 ],
 "metadata": {
  "kernelspec": {
   "display_name": "Python 3",
   "language": "python",
   "name": "python3"
  },
  "language_info": {
   "codemirror_mode": {
    "name": "ipython",
    "version": 3
   },
   "file_extension": ".py",
   "mimetype": "text/x-python",
   "name": "python",
   "nbconvert_exporter": "python",
   "pygments_lexer": "ipython3",
   "version": "3.11.5"
  },
  "orig_nbformat": 4
 },
 "nbformat": 4,
 "nbformat_minor": 2
}
